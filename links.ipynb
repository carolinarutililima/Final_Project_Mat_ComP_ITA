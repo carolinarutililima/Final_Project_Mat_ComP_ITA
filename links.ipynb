{
 "cells": [
  {
   "cell_type": "code",
   "execution_count": null,
   "metadata": {},
   "outputs": [],
   "source": []
  },
  {
   "cell_type": "markdown",
   "metadata": {},
   "source": [
    "Sites\n",
    "\n",
    "https://www.youtube.com/watch?v=Cy155O5R1Oo\n",
    "https://www.youtube.com/watch?v=vSEecU-8qQc\n",
    "https://www.youtube.com/watch?v=ssSijtQfgl4\n",
    "https://www.youtube.com/watch?v=3HYI8Qm0n7s"
   ]
  }
 ],
 "metadata": {
  "language_info": {
   "name": "python"
  }
 },
 "nbformat": 4,
 "nbformat_minor": 2
}
