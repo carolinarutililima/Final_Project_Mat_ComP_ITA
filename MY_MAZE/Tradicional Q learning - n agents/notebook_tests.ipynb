{
 "cells": [
  {
   "cell_type": "code",
   "execution_count": 2,
   "metadata": {},
   "outputs": [
    {
     "ename": "FileNotFoundError",
     "evalue": "[Errno 2] No such file or directory: 'maze_5x5.csv'",
     "output_type": "error",
     "traceback": [
      "\u001b[1;31m---------------------------------------------------------------------------\u001b[0m",
      "\u001b[1;31mFileNotFoundError\u001b[0m                         Traceback (most recent call last)",
      "Cell \u001b[1;32mIn[2], line 13\u001b[0m\n\u001b[0;32m     11\u001b[0m numOfColumns \u001b[38;5;241m=\u001b[39m \u001b[38;5;241m5\u001b[39m\n\u001b[0;32m     12\u001b[0m m\u001b[38;5;241m=\u001b[39mmaze(numOfLines, numOfColumns)\n\u001b[1;32m---> 13\u001b[0m \u001b[43mm\u001b[49m\u001b[38;5;241;43m.\u001b[39;49m\u001b[43mCreateMaze\u001b[49m\u001b[43m(\u001b[49m\u001b[43mloadMaze\u001b[49m\u001b[38;5;241;43m=\u001b[39;49m\u001b[43m \u001b[49m\u001b[38;5;124;43m'\u001b[39;49m\u001b[38;5;124;43mmaze_5x5.csv\u001b[39;49m\u001b[38;5;124;43m'\u001b[39;49m\u001b[43m \u001b[49m\u001b[43m,\u001b[49m\u001b[43mtheme\u001b[49m\u001b[38;5;241;43m=\u001b[39;49m\u001b[43mCOLOR\u001b[49m\u001b[38;5;241;43m.\u001b[39;49m\u001b[43mlight\u001b[49m\u001b[43m)\u001b[49m\n\u001b[0;32m     14\u001b[0m a \u001b[38;5;241m=\u001b[39m agent(m, footprints\u001b[38;5;241m=\u001b[39m\u001b[38;5;28;01mTrue\u001b[39;00m,color\u001b[38;5;241m=\u001b[39m\u001b[38;5;124m'\u001b[39m\u001b[38;5;124mblue\u001b[39m\u001b[38;5;124m'\u001b[39m,shape\u001b[38;5;241m=\u001b[39m\u001b[38;5;124m'\u001b[39m\u001b[38;5;124marrow\u001b[39m\u001b[38;5;124m'\u001b[39m)\n\u001b[0;32m     19\u001b[0m m\u001b[38;5;241m.\u001b[39mrun()\n",
      "File \u001b[1;32m~\\AppData\\Local\\Packages\\PythonSoftwareFoundation.Python.3.11_qbz5n2kfra8p0\\LocalCache\\local-packages\\Python311\\site-packages\\pyamaze\\pyamaze.py:581\u001b[0m, in \u001b[0;36mmaze.CreateMaze\u001b[1;34m(self, x, y, pattern, loopPercent, saveMaze, loadMaze, theme)\u001b[0m\n\u001b[0;32m    578\u001b[0m         \u001b[38;5;28mself\u001b[39m\u001b[38;5;241m.\u001b[39mpath\u001b[38;5;241m=\u001b[39mBFS((\u001b[38;5;28mself\u001b[39m\u001b[38;5;241m.\u001b[39mrows,\u001b[38;5;28mself\u001b[39m\u001b[38;5;241m.\u001b[39mcols))\n\u001b[0;32m    579\u001b[0m \u001b[38;5;28;01melse\u001b[39;00m:\n\u001b[0;32m    580\u001b[0m     \u001b[38;5;66;03m# Load maze from CSV file\u001b[39;00m\n\u001b[1;32m--> 581\u001b[0m     \u001b[38;5;28;01mwith\u001b[39;00m \u001b[38;5;28;43mopen\u001b[39;49m\u001b[43m(\u001b[49m\u001b[43mloadMaze\u001b[49m\u001b[43m,\u001b[49m\u001b[38;5;124;43m'\u001b[39;49m\u001b[38;5;124;43mr\u001b[39;49m\u001b[38;5;124;43m'\u001b[39;49m\u001b[43m)\u001b[49m \u001b[38;5;28;01mas\u001b[39;00m f:\n\u001b[0;32m    582\u001b[0m         last\u001b[38;5;241m=\u001b[39m\u001b[38;5;28mlist\u001b[39m(f\u001b[38;5;241m.\u001b[39mreadlines())[\u001b[38;5;241m-\u001b[39m\u001b[38;5;241m1\u001b[39m]\n\u001b[0;32m    583\u001b[0m         c\u001b[38;5;241m=\u001b[39mlast\u001b[38;5;241m.\u001b[39msplit(\u001b[38;5;124m'\u001b[39m\u001b[38;5;124m,\u001b[39m\u001b[38;5;124m'\u001b[39m)\n",
      "\u001b[1;31mFileNotFoundError\u001b[0m: [Errno 2] No such file or directory: 'maze_5x5.csv'"
     ]
    }
   ],
   "source": [
    "import gym\n",
    "import random\n",
    "import numpy as np\n",
    "from pyamaze import maze,agent,COLOR\n",
    "import matplotlib.pyplot as plt\n",
    "import tkinter as tk\n",
    "\n",
    "\n",
    "\n",
    "numOfLines = 5\n",
    "numOfColumns = 5\n",
    "m=maze(numOfLines, numOfColumns)\n",
    "m.CreateMaze(loadMaze= 'maze_5x5.csv' ,theme=COLOR.light)\n",
    "a = agent(m, footprints=True,color='blue',shape='arrow')\n",
    "\n",
    "\n",
    "\n",
    "\n",
    "m.run()"
   ]
  },
  {
   "cell_type": "code",
   "execution_count": 12,
   "metadata": {},
   "outputs": [
    {
     "name": "stdout",
     "output_type": "stream",
     "text": [
      "<pyamaze.pyamaze.agent object at 0x0000013A9F8945D0>\n",
      "<pyamaze.pyamaze.agent object at 0x0000013A9F8BBF50>\n",
      "<pyamaze.pyamaze.agent object at 0x0000013A9F8BB3D0>\n",
      "<pyamaze.pyamaze.agent object at 0x0000013A9F8AFE90>\n",
      "5\n",
      "a\n"
     ]
    }
   ],
   "source": [
    "import gym\n",
    "import random\n",
    "import numpy as np\n",
    "from pyamaze import maze,agent,COLOR\n",
    "import matplotlib.pyplot as plt\n",
    "import tkinter as tk\n",
    "\n",
    "\n",
    "n_agents = 4\n",
    "\n",
    "numOfLines = 5\n",
    "numOfColumns = 5\n",
    "m=maze(numOfLines, numOfColumns)\n",
    "m.CreateMaze(loadMaze= 'maze_5x5.csv' ,theme=COLOR.light)\n",
    "for i in range(0, n_agents):\n",
    "\tprint(character)\n",
    "\tcharacter = chr(97 + i)\n",
    "\tcharacter = agent(m, footprints=True,color='green',shape='arrow')\n",
    "\t\n",
    "print(a.x)\n"
   ]
  },
  {
   "cell_type": "code",
   "execution_count": 9,
   "metadata": {},
   "outputs": [],
   "source": [
    "\n",
    "numOfLines = 5\n",
    "numOfColumns = 5\n",
    "m=maze(numOfLines, numOfColumns)\n",
    "m.CreateMaze(loadMaze= 'maze_5x5.csv' ,theme=COLOR.light)\n",
    "a = agent(m, footprints=True,color='green',shape='arrow')\n"
   ]
  },
  {
   "cell_type": "code",
   "execution_count": 5,
   "metadata": {},
   "outputs": [
    {
     "ename": "ValueError",
     "evalue": "setting an array element with a sequence.",
     "output_type": "error",
     "traceback": [
      "\u001b[1;31m---------------------------------------------------------------------------\u001b[0m",
      "\u001b[1;31mTypeError\u001b[0m                                 Traceback (most recent call last)",
      "\u001b[1;31mTypeError\u001b[0m: float() argument must be a string or a real number, not 'tuple'",
      "\nThe above exception was the direct cause of the following exception:\n",
      "\u001b[1;31mValueError\u001b[0m                                Traceback (most recent call last)",
      "Cell \u001b[1;32mIn[5], line 23\u001b[0m\n\u001b[0;32m     21\u001b[0m character \u001b[38;5;241m=\u001b[39m agent(m, footprints\u001b[38;5;241m=\u001b[39m\u001b[38;5;28;01mTrue\u001b[39;00m,color\u001b[38;5;241m=\u001b[39m\u001b[38;5;124m'\u001b[39m\u001b[38;5;124mgreen\u001b[39m\u001b[38;5;124m'\u001b[39m,shape\u001b[38;5;241m=\u001b[39m\u001b[38;5;124m'\u001b[39m\u001b[38;5;124marrow\u001b[39m\u001b[38;5;124m'\u001b[39m)\n\u001b[0;32m     22\u001b[0m agents\u001b[38;5;241m.\u001b[39mappend(character)\n\u001b[1;32m---> 23\u001b[0m \u001b[43mstate\u001b[49m\u001b[43m[\u001b[49m\u001b[43mi\u001b[49m\u001b[43m]\u001b[49m \u001b[38;5;241m=\u001b[39m env\u001b[38;5;241m.\u001b[39mreset()\n",
      "\u001b[1;31mValueError\u001b[0m: setting an array element with a sequence."
     ]
    }
   ],
   "source": [
    "from maze_q_learning import Maze\n",
    "\n",
    "\n",
    "n_agents = 1\n",
    "\n",
    "numOfLines = 5\n",
    "numOfColumns = 5\n",
    "m=maze(numOfLines, numOfColumns)\n",
    "m.CreateMaze(theme=COLOR.light)\n",
    "agents = []\n",
    "\n",
    "maze_map = m.maze_map\n",
    "env = Maze(maze_map, numOfLines, numOfColumns)\n",
    "\n",
    "\n",
    "state = np.zeros(shape=(n_agents))\n",
    "\n",
    "\n",
    "for i in range(0, n_agents):\n",
    "\tcharacter = chr(97 + i)\n",
    "\tcharacter = agent(m, footprints=True,color='green',shape='arrow')\n",
    "\tagents.append(character)\n",
    "\tstate[i] = env.reset()"
   ]
  },
  {
   "cell_type": "code",
   "execution_count": 14,
   "metadata": {},
   "outputs": [
    {
     "name": "stdout",
     "output_type": "stream",
     "text": [
      "(5, 5)\n",
      "(1, 2)\n",
      "int32\n"
     ]
    }
   ],
   "source": [
    "import numpy as np\n",
    "\n",
    "num_agents = 1  # Assuming you have 5 agents\n",
    "state_shape = (2,)  # Assuming each state vector has 4 elements\n",
    "state = np.zeros((num_agents,) + state_shape, dtype=int)  # Create a 2D array to store states\n",
    "\n",
    "for i in range(num_agents):\n",
    "    state[i] = env.reset()\n",
    "\n",
    "\n",
    "print(env.reset())  # See what this returns\n",
    "print(state.shape)  # Check if the state array can hold this data\n",
    "\n",
    "print(state.dtype)"
   ]
  },
  {
   "cell_type": "code",
   "execution_count": 8,
   "metadata": {},
   "outputs": [
    {
     "name": "stdout",
     "output_type": "stream",
     "text": [
      "[False False False False False False False False False False]\n"
     ]
    }
   ],
   "source": [
    "import numpy as np\n",
    "\n",
    "# Specify the number of elements\n",
    "n = 10  # for example, creating an array with 10 False values\n",
    "\n",
    "# Create the array with n Falses\n",
    "false_array = np.zeros(n, dtype=bool)\n",
    "\n",
    "print(false_array)\n"
   ]
  },
  {
   "cell_type": "code",
   "execution_count": 11,
   "metadata": {},
   "outputs": [
    {
     "name": "stdout",
     "output_type": "stream",
     "text": [
      "[[1 2]]\n",
      "(1, 2)\n",
      "int32\n"
     ]
    }
   ],
   "source": [
    "import numpy as np\n",
    "\n",
    "num_agents = 1  # Assuming you have 1 agent\n",
    "state_shape = (2,)  # Assuming each state vector has 2 elements\n",
    "# Create a 2D array to store states, explicitly set dtype to int\n",
    "state = np.zeros((num_agents,) + state_shape, dtype=int)\n",
    "\n",
    "# Assuming env.reset() is defined and returns a tuple of integers\n",
    "# For example purposes, let's simulate env.reset() with a function that returns a tuple of two integers\n",
    "def simulated_env_reset():\n",
    "    return (1, 2)  # This function simulates env.reset()\n",
    "\n",
    "for i in range(num_agents):\n",
    "    state[i] = simulated_env_reset()\n",
    "\n",
    "print(state)\n",
    "print(state.shape)  # Check the shape of the state array\n",
    "print(state.dtype)  # Check the data type of the array to confirm it's integer\n"
   ]
  },
  {
   "cell_type": "code",
   "execution_count": 19,
   "metadata": {},
   "outputs": [],
   "source": [
    "\n",
    "import numpy as np \n",
    "n_agents = 2\n",
    "path = [{1,2,3,4}]\n",
    "best_path =  np.zeros(shape=(n_agents)) "
   ]
  },
  {
   "cell_type": "code",
   "execution_count": 20,
   "metadata": {},
   "outputs": [
    {
     "data": {
      "text/plain": [
       "array([0., 0.])"
      ]
     },
     "execution_count": 20,
     "metadata": {},
     "output_type": "execute_result"
    }
   ],
   "source": [
    "best_path\n"
   ]
  },
  {
   "cell_type": "code",
   "execution_count": null,
   "metadata": {},
   "outputs": [],
   "source": []
  }
 ],
 "metadata": {
  "kernelspec": {
   "display_name": "Python 3",
   "language": "python",
   "name": "python3"
  },
  "language_info": {
   "codemirror_mode": {
    "name": "ipython",
    "version": 3
   },
   "file_extension": ".py",
   "mimetype": "text/x-python",
   "name": "python",
   "nbconvert_exporter": "python",
   "pygments_lexer": "ipython3",
   "version": "3.11.9"
  }
 },
 "nbformat": 4,
 "nbformat_minor": 2
}
